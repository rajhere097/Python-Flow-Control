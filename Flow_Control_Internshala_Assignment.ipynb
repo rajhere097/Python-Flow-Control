{
 "cells": [
  {
   "cell_type": "code",
   "execution_count": 1,
   "id": "a36b9ba1-107c-42ac-ae59-1a6d23bf8cfc",
   "metadata": {},
   "outputs": [
    {
     "name": "stdin",
     "output_type": "stream",
     "text": [
      "Please enter three numbers using a space.(ex:12 11 10):  12 11 10\n"
     ]
    },
    {
     "name": "stdout",
     "output_type": "stream",
     "text": [
      "max num is 12.0 out of [12.0, 11.0, 10.0]\n"
     ]
    }
   ],
   "source": [
    "# Task 1: Write a Python program to find the largest of three numbers.\n",
    "try:\n",
    "    userinput = input('Please enter three numbers using a space.(ex:12 11 10): ')\n",
    "    user_list = list(map(float, userinput.split()))\n",
    "    for i in user_list:\n",
    "        if type(i) in [float, int]:\n",
    "            if i >=max(user_list):\n",
    "                print(f'max num is {i} out of {user_list}')\n",
    "        else:\n",
    "            print('Please enter numbers only')\n",
    "except ValueError:\n",
    "    print('Please enter numbers only')\n",
    "   \n",
    "    \n"
   ]
  },
  {
   "cell_type": "code",
   "execution_count": 2,
   "id": "39556673-5fb7-4cc2-a8c0-7b5f1ae20dc6",
   "metadata": {},
   "outputs": [
    {
     "name": "stdin",
     "output_type": "stream",
     "text": [
      "Please enter numbers or number to find odd and even:  11 12 10\n"
     ]
    },
    {
     "name": "stdout",
     "output_type": "stream",
     "text": [
      "even number or numbers are [12, 10]\n",
      "odd number or numbers are [11]\n"
     ]
    }
   ],
   "source": [
    "# Task 2: Create a program that checks if a number is even or odd.\n",
    "userinput = (input('Please enter numbers or number to find odd and even: '))\n",
    "userinput1 = list(map(int, userinput.split())) # [11, 12, 10]\n",
    "even = []\n",
    "odd = []\n",
    "for i in userinput1:\n",
    "    if i % 2== 0:\n",
    "        even.append(i)\n",
    "    else:\n",
    "        odd.append(i)\n",
    "        \n",
    "print(f'even number or numbers are {even}')\n",
    "print(f'odd number or numbers are {odd}')\n",
    "        \n"
   ]
  },
  {
   "cell_type": "code",
   "execution_count": 3,
   "id": "fe4ba729-cdf0-4978-a000-c9550c353e61",
   "metadata": {},
   "outputs": [
    {
     "name": "stdout",
     "output_type": "stream",
     "text": [
      "1\n",
      "2\n",
      "3\n",
      "4\n",
      "5\n",
      "6\n",
      "8\n",
      "9\n",
      "10\n",
      "11\n",
      "12\n",
      "13\n",
      "15\n",
      "16\n",
      "17\n",
      "18\n",
      "19\n",
      "20\n",
      "22\n",
      "23\n",
      "24\n",
      "25\n",
      "26\n",
      "27\n",
      "29\n",
      "30\n",
      "31\n",
      "32\n",
      "33\n",
      "34\n",
      "36\n",
      "37\n",
      "38\n",
      "39\n",
      "40\n",
      "41\n",
      "43\n",
      "44\n",
      "45\n",
      "46\n",
      "47\n",
      "48\n",
      "50\n",
      "51\n",
      "52\n",
      "53\n",
      "54\n",
      "55\n",
      "57\n",
      "58\n",
      "59\n",
      "60\n",
      "61\n",
      "62\n",
      "64\n",
      "65\n",
      "66\n",
      "67\n",
      "68\n",
      "69\n",
      "71\n",
      "72\n",
      "73\n",
      "74\n",
      "75\n",
      "76\n",
      "78\n",
      "79\n",
      "80\n",
      "81\n",
      "82\n",
      "83\n",
      "85\n",
      "86\n",
      "87\n",
      "88\n",
      "89\n",
      "90\n",
      "92\n",
      "93\n",
      "94\n",
      "95\n",
      "96\n",
      "97\n",
      "99\n",
      "100\n"
     ]
    }
   ],
   "source": [
    "\"\"\" Task 3: Write a program that prints numbers from 1 to 100 but skips numbers\n",
    "divisible by 7.\"\"\"\n",
    "for i in range(1, 101):\n",
    "    if i % 7 ==0:\n",
    "        continue\n",
    "    else:\n",
    "        print(i)\n"
   ]
  },
  {
   "cell_type": "code",
   "execution_count": 4,
   "id": "2b8be85a-1dce-4ab1-953a-8494e8c88121",
   "metadata": {},
   "outputs": [
    {
     "name": "stdin",
     "output_type": "stream",
     "text": [
      "Enter your number to find the multiplication table:  4\n",
      "Till what number you want to find the multiplication table?:  5\n"
     ]
    },
    {
     "name": "stdout",
     "output_type": "stream",
     "text": [
      "0\n",
      "4\n",
      "8\n",
      "12\n",
      "16\n",
      "20\n"
     ]
    }
   ],
   "source": [
    "# Task 4: Write a program to print the multiplication table of a given number.\n",
    "userinput = int(input('Enter your number to find the multiplication table: '))\n",
    "till_what_number = int(input('Till what number you want to find the multiplication table?: '))\n",
    "for i in range(0, till_what_number + 1):\n",
    "    print(i * userinput)"
   ]
  },
  {
   "cell_type": "code",
   "execution_count": 5,
   "id": "9f489d30-ec96-4ad5-bc5b-81a20ea04ad4",
   "metadata": {},
   "outputs": [
    {
     "name": "stdin",
     "output_type": "stream",
     "text": [
      "Enter the number of rows for the triangle:  5\n"
     ]
    },
    {
     "name": "stdout",
     "output_type": "stream",
     "text": [
      "*\n",
      "**\n",
      "***\n",
      "****\n",
      "*****\n"
     ]
    }
   ],
   "source": [
    "\"\"\" Task 5: Write a program that uses a nested loop to print a right-angled triangle\n",
    "pattern of stars based on user input.\"\"\"\n",
    "\n",
    "rows = int(input('Enter the number of rows for the triangle: '))\n",
    "for i in range(1, rows + 1):\n",
    "    for j in range(i):\n",
    "        print('*', end='')\n",
    "    print()"
   ]
  },
  {
   "cell_type": "code",
   "execution_count": 6,
   "id": "f7b5f700-6a13-44f0-a368-454b1e9eab2a",
   "metadata": {},
   "outputs": [
    {
     "name": "stdout",
     "output_type": "stream",
     "text": [
      "1\n",
      "12\n",
      "123\n",
      "1234\n"
     ]
    }
   ],
   "source": [
    "\"\"\" Task 6: Create a Python program that prints the following pattern using nested\n",
    "loops: 1\n",
    "12\n",
    "123\n",
    "1234 \"\"\"\n",
    "\n",
    "rows = 4\n",
    "\n",
    "for i in range(1, rows + 1): #(1, 5) # 1 ## 2\n",
    "    for j in range(1, i+1): #(1,2) # 1 ## (1,3) ##\n",
    "        print(j, end='') # 1 ## 1\n",
    "    print() \n",
    "           \n",
    "                \n",
    "        \n",
    "    \n",
    "    "
   ]
  },
  {
   "cell_type": "code",
   "execution_count": 7,
   "id": "c9ed73ad-957a-4863-a9ad-cf45fac58b8f",
   "metadata": {},
   "outputs": [
    {
     "name": "stdin",
     "output_type": "stream",
     "text": [
      "Enter your character:  R\n"
     ]
    },
    {
     "name": "stdout",
     "output_type": "stream",
     "text": [
      "R is consonant\n"
     ]
    }
   ],
   "source": [
    "\"\"\" Task 7: Create a Python program to check if a character entered by the user is a\n",
    "vowel or consonant.\"\"\"\n",
    "\n",
    "userinput = input('Enter your character: ') #R\n",
    "vowels = 'aeiou'\n",
    "for i in userinput: #R\n",
    "    if i.lower() in vowels:\n",
    "        print(f'{i} is a  vowel')\n",
    "    else:\n",
    "        print(f'{i} is consonant')\n",
    "    \n",
    "\n"
   ]
  },
  {
   "cell_type": "code",
   "execution_count": 12,
   "id": "0a648d52-d145-41f3-80e7-498973104e20",
   "metadata": {},
   "outputs": [
    {
     "name": "stdout",
     "output_type": "stream",
     "text": [
      "    *\n",
      "   ***\n",
      "  *****\n",
      " *******\n",
      "*********\n",
      " *******\n",
      "  *****\n",
      "   ***\n",
      "    *\n"
     ]
    }
   ],
   "source": [
    "\"\"\" Task 8. Write a Python program that generates a diamond pattern of stars\n",
    "For n = 5, the output should look like:\n",
    "*\n",
    "***\n",
    "*****\n",
    "*******\n",
    "*********\n",
    "******* \"\"\"\n",
    "n = 5  \n",
    "\n",
    "for i in range(1, n + 1):\n",
    "    print(' ' * (n - i) + '*' * (2 * i - 1))\n",
    "\n",
    "\n",
    "for i in range(n - 1, 0, -1):\n",
    "    print(' ' * (n - i) + '*' * (2 * i - 1))"
   ]
  },
  {
   "cell_type": "code",
   "execution_count": 9,
   "id": "ad49e93d-97ee-42ba-83e5-d54fd3b91ba6",
   "metadata": {},
   "outputs": [
    {
     "name": "stdin",
     "output_type": "stream",
     "text": [
      "Enter your number to reverse it:  1234\n"
     ]
    },
    {
     "name": "stdout",
     "output_type": "stream",
     "text": [
      "4321\n"
     ]
    }
   ],
   "source": [
    "# Task 9: Write a Python program to reverse the digits of a given number.\n",
    "userinput = int(input('Enter your number to reverse it: ')) #1234\n",
    "num = 0\n",
    "reverse_num = 0\n",
    "while userinput > num:   # 1234 >= 0 ## 123 >=0  ### 12 >= 0 #### 1>=0 #### 0\n",
    "    num1 = userinput % 10  # num1 = 1234 % 10 = 4  ## 123 % 10 = 3  ### 12 % 10 = 2  #### 1 % 10 = 1\n",
    "    reverse_num = reverse_num * 10 + num1 # 0 * 10 + 4 = 4 ## 4 * 10 + 3 = 43 ### 43 * 10 + 2 = 432 #### 432 * 10 + 1 = 4320 + 1 = 4321\n",
    "    userinput = userinput // 10  #1234 // 10 = 123  ## 123 // 10 = 12  ### 12 // 1  #### 1 // 10 = 0 ## 0 // 10 = 0\n",
    "\n",
    "print(reverse_num)"
   ]
  },
  {
   "cell_type": "code",
   "execution_count": 10,
   "id": "9838d739-8824-473b-9fbe-08bee62a623f",
   "metadata": {},
   "outputs": [
    {
     "name": "stdout",
     "output_type": "stream",
     "text": [
      "1\n",
      "121\n",
      "12321\n",
      "1234321\n",
      "123454321\n"
     ]
    }
   ],
   "source": [
    "\"\"\" Task 10. Create a Python program that generates the following pyramid pattern:\n",
    "1\n",
    "121\n",
    "12321\n",
    "1234321\n",
    "123454321\n",
    "\"\"\"\n",
    "rows = 5  \n",
    "\n",
    "for i in range(1, rows + 1):\n",
    "    \n",
    "    for j in range(1, i + 1):\n",
    "        print(j, end='')\n",
    "\n",
    "    \n",
    "    for j in range(i - 1, 0, -1):\n",
    "        print(j, end='')\n",
    "\n",
    "    print()  "
   ]
  },
  {
   "cell_type": "markdown",
   "id": "7ea7d8c8-6d53-47e9-a143-0561c4776908",
   "metadata": {
    "jp-MarkdownHeadingCollapsed": true
   },
   "source": [
    "## "
   ]
  }
 ],
 "metadata": {
  "kernelspec": {
   "display_name": "Python [conda env:base] *",
   "language": "python",
   "name": "conda-base-py"
  },
  "language_info": {
   "codemirror_mode": {
    "name": "ipython",
    "version": 3
   },
   "file_extension": ".py",
   "mimetype": "text/x-python",
   "name": "python",
   "nbconvert_exporter": "python",
   "pygments_lexer": "ipython3",
   "version": "3.13.5"
  }
 },
 "nbformat": 4,
 "nbformat_minor": 5
}
